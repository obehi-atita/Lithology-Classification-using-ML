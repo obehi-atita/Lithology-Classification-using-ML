{
 "cells": [
  {
   "cell_type": "code",
   "execution_count": 1,
   "id": "50881d91",
   "metadata": {},
   "outputs": [],
   "source": [
    "#importing needed library\n",
    "import pandas as pd\n",
    "import numpy as np\n",
    "#loading in dataset from excel\n",
    "elastic_prop = pd.read_excel(\"elastic Hole A logs.xlsx\")"
   ]
  },
  {
   "cell_type": "code",
   "execution_count": 2,
   "id": "11fa8381",
   "metadata": {},
   "outputs": [
    {
     "data": {
      "text/html": [
       "<div>\n",
       "<style scoped>\n",
       "    .dataframe tbody tr th:only-of-type {\n",
       "        vertical-align: middle;\n",
       "    }\n",
       "\n",
       "    .dataframe tbody tr th {\n",
       "        vertical-align: top;\n",
       "    }\n",
       "\n",
       "    .dataframe thead th {\n",
       "        text-align: right;\n",
       "    }\n",
       "</style>\n",
       "<table border=\"1\" class=\"dataframe\">\n",
       "  <thead>\n",
       "    <tr style=\"text-align: right;\">\n",
       "      <th></th>\n",
       "      <th>depth</th>\n",
       "      <th>Gamma</th>\n",
       "      <th>Density</th>\n",
       "      <th>vp</th>\n",
       "      <th>Vs</th>\n",
       "      <th>shear_modulus</th>\n",
       "      <th>poisson_ratio</th>\n",
       "      <th>young_modulus</th>\n",
       "      <th>real_labels_A</th>\n",
       "      <th>formations</th>\n",
       "      <th>...</th>\n",
       "      <th>Unnamed: 18</th>\n",
       "      <th>Unnamed: 19</th>\n",
       "      <th>Unnamed: 20</th>\n",
       "      <th>Unnamed: 21</th>\n",
       "      <th>Unnamed: 22</th>\n",
       "      <th>Unnamed: 23</th>\n",
       "      <th>Unnamed: 24</th>\n",
       "      <th>Unnamed: 25</th>\n",
       "      <th>Unnamed: 26</th>\n",
       "      <th>Unnamed: 27</th>\n",
       "    </tr>\n",
       "  </thead>\n",
       "  <tbody>\n",
       "    <tr>\n",
       "      <th>0</th>\n",
       "      <td>161.02</td>\n",
       "      <td>45.0744</td>\n",
       "      <td>2.632998</td>\n",
       "      <td>5795.981453</td>\n",
       "      <td>3695.036335</td>\n",
       "      <td>3.594909e+07</td>\n",
       "      <td>0.157642</td>\n",
       "      <td>8.323239e+07</td>\n",
       "      <td>0</td>\n",
       "      <td>0</td>\n",
       "      <td>...</td>\n",
       "      <td>NaN</td>\n",
       "      <td>NaN</td>\n",
       "      <td>NaN</td>\n",
       "      <td>NaN</td>\n",
       "      <td>NaN</td>\n",
       "      <td>NaN</td>\n",
       "      <td>NaN</td>\n",
       "      <td>NaN</td>\n",
       "      <td>NaN</td>\n",
       "      <td>NaN</td>\n",
       "    </tr>\n",
       "    <tr>\n",
       "      <th>1</th>\n",
       "      <td>161.07</td>\n",
       "      <td>47.9752</td>\n",
       "      <td>2.648486</td>\n",
       "      <td>5783.318340</td>\n",
       "      <td>3701.418877</td>\n",
       "      <td>3.628559e+07</td>\n",
       "      <td>0.153086</td>\n",
       "      <td>8.368083e+07</td>\n",
       "      <td>0</td>\n",
       "      <td>0</td>\n",
       "      <td>...</td>\n",
       "      <td>NaN</td>\n",
       "      <td>NaN</td>\n",
       "      <td>NaN</td>\n",
       "      <td>NaN</td>\n",
       "      <td>NaN</td>\n",
       "      <td>NaN</td>\n",
       "      <td>NaN</td>\n",
       "      <td>NaN</td>\n",
       "      <td>NaN</td>\n",
       "      <td>NaN</td>\n",
       "    </tr>\n",
       "    <tr>\n",
       "      <th>2</th>\n",
       "      <td>161.12</td>\n",
       "      <td>49.2025</td>\n",
       "      <td>2.678836</td>\n",
       "      <td>5798.969072</td>\n",
       "      <td>3680.981595</td>\n",
       "      <td>3.629722e+07</td>\n",
       "      <td>0.162582</td>\n",
       "      <td>8.439702e+07</td>\n",
       "      <td>0</td>\n",
       "      <td>0</td>\n",
       "      <td>...</td>\n",
       "      <td>NaN</td>\n",
       "      <td>NaN</td>\n",
       "      <td>NaN</td>\n",
       "      <td>NaN</td>\n",
       "      <td>NaN</td>\n",
       "      <td>NaN</td>\n",
       "      <td>NaN</td>\n",
       "      <td>NaN</td>\n",
       "      <td>NaN</td>\n",
       "      <td>NaN</td>\n",
       "    </tr>\n",
       "    <tr>\n",
       "      <th>3</th>\n",
       "      <td>161.17</td>\n",
       "      <td>52.2893</td>\n",
       "      <td>2.632898</td>\n",
       "      <td>5769.230769</td>\n",
       "      <td>3671.970624</td>\n",
       "      <td>3.550033e+07</td>\n",
       "      <td>0.159522</td>\n",
       "      <td>8.232685e+07</td>\n",
       "      <td>0</td>\n",
       "      <td>0</td>\n",
       "      <td>...</td>\n",
       "      <td>NaN</td>\n",
       "      <td>NaN</td>\n",
       "      <td>NaN</td>\n",
       "      <td>NaN</td>\n",
       "      <td>NaN</td>\n",
       "      <td>NaN</td>\n",
       "      <td>NaN</td>\n",
       "      <td>NaN</td>\n",
       "      <td>NaN</td>\n",
       "      <td>NaN</td>\n",
       "    </tr>\n",
       "    <tr>\n",
       "      <th>4</th>\n",
       "      <td>161.22</td>\n",
       "      <td>59.3182</td>\n",
       "      <td>2.672184</td>\n",
       "      <td>5742.725881</td>\n",
       "      <td>3671.521234</td>\n",
       "      <td>3.602122e+07</td>\n",
       "      <td>0.154337</td>\n",
       "      <td>8.316123e+07</td>\n",
       "      <td>0</td>\n",
       "      <td>0</td>\n",
       "      <td>...</td>\n",
       "      <td>NaN</td>\n",
       "      <td>NaN</td>\n",
       "      <td>NaN</td>\n",
       "      <td>NaN</td>\n",
       "      <td>NaN</td>\n",
       "      <td>NaN</td>\n",
       "      <td>NaN</td>\n",
       "      <td>NaN</td>\n",
       "      <td>NaN</td>\n",
       "      <td>NaN</td>\n",
       "    </tr>\n",
       "    <tr>\n",
       "      <th>...</th>\n",
       "      <td>...</td>\n",
       "      <td>...</td>\n",
       "      <td>...</td>\n",
       "      <td>...</td>\n",
       "      <td>...</td>\n",
       "      <td>...</td>\n",
       "      <td>...</td>\n",
       "      <td>...</td>\n",
       "      <td>...</td>\n",
       "      <td>...</td>\n",
       "      <td>...</td>\n",
       "      <td>...</td>\n",
       "      <td>...</td>\n",
       "      <td>...</td>\n",
       "      <td>...</td>\n",
       "      <td>...</td>\n",
       "      <td>...</td>\n",
       "      <td>...</td>\n",
       "      <td>...</td>\n",
       "      <td>...</td>\n",
       "      <td>...</td>\n",
       "    </tr>\n",
       "    <tr>\n",
       "      <th>13079</th>\n",
       "      <td>815.57</td>\n",
       "      <td>59.7361</td>\n",
       "      <td>2.629264</td>\n",
       "      <td>5804.055100</td>\n",
       "      <td>3811.944091</td>\n",
       "      <td>3.820562e+07</td>\n",
       "      <td>0.120724</td>\n",
       "      <td>8.563593e+07</td>\n",
       "      <td>0</td>\n",
       "      <td>6</td>\n",
       "      <td>...</td>\n",
       "      <td>NaN</td>\n",
       "      <td>NaN</td>\n",
       "      <td>NaN</td>\n",
       "      <td>NaN</td>\n",
       "      <td>NaN</td>\n",
       "      <td>NaN</td>\n",
       "      <td>NaN</td>\n",
       "      <td>NaN</td>\n",
       "      <td>NaN</td>\n",
       "      <td>NaN</td>\n",
       "    </tr>\n",
       "    <tr>\n",
       "      <th>13080</th>\n",
       "      <td>815.62</td>\n",
       "      <td>58.4438</td>\n",
       "      <td>2.639210</td>\n",
       "      <td>5810.350170</td>\n",
       "      <td>3792.667509</td>\n",
       "      <td>3.796326e+07</td>\n",
       "      <td>0.128808</td>\n",
       "      <td>8.570644e+07</td>\n",
       "      <td>0</td>\n",
       "      <td>6</td>\n",
       "      <td>...</td>\n",
       "      <td>NaN</td>\n",
       "      <td>NaN</td>\n",
       "      <td>NaN</td>\n",
       "      <td>NaN</td>\n",
       "      <td>NaN</td>\n",
       "      <td>NaN</td>\n",
       "      <td>NaN</td>\n",
       "      <td>NaN</td>\n",
       "      <td>NaN</td>\n",
       "      <td>NaN</td>\n",
       "    </tr>\n",
       "    <tr>\n",
       "      <th>13081</th>\n",
       "      <td>815.67</td>\n",
       "      <td>61.1281</td>\n",
       "      <td>2.685878</td>\n",
       "      <td>5832.944470</td>\n",
       "      <td>3769.317753</td>\n",
       "      <td>3.816030e+07</td>\n",
       "      <td>0.141499</td>\n",
       "      <td>8.711986e+07</td>\n",
       "      <td>0</td>\n",
       "      <td>6</td>\n",
       "      <td>...</td>\n",
       "      <td>NaN</td>\n",
       "      <td>NaN</td>\n",
       "      <td>NaN</td>\n",
       "      <td>NaN</td>\n",
       "      <td>NaN</td>\n",
       "      <td>NaN</td>\n",
       "      <td>NaN</td>\n",
       "      <td>NaN</td>\n",
       "      <td>NaN</td>\n",
       "      <td>NaN</td>\n",
       "    </tr>\n",
       "    <tr>\n",
       "      <th>13082</th>\n",
       "      <td>815.72</td>\n",
       "      <td>68.6226</td>\n",
       "      <td>2.697876</td>\n",
       "      <td>5886.970173</td>\n",
       "      <td>3768.844221</td>\n",
       "      <td>3.832113e+07</td>\n",
       "      <td>0.152747</td>\n",
       "      <td>8.834917e+07</td>\n",
       "      <td>0</td>\n",
       "      <td>6</td>\n",
       "      <td>...</td>\n",
       "      <td>NaN</td>\n",
       "      <td>NaN</td>\n",
       "      <td>NaN</td>\n",
       "      <td>NaN</td>\n",
       "      <td>NaN</td>\n",
       "      <td>NaN</td>\n",
       "      <td>NaN</td>\n",
       "      <td>NaN</td>\n",
       "      <td>NaN</td>\n",
       "      <td>NaN</td>\n",
       "    </tr>\n",
       "    <tr>\n",
       "      <th>13083</th>\n",
       "      <td>815.77</td>\n",
       "      <td>77.9380</td>\n",
       "      <td>2.725204</td>\n",
       "      <td>5915.759584</td>\n",
       "      <td>3754.693367</td>\n",
       "      <td>3.841917e+07</td>\n",
       "      <td>0.162710</td>\n",
       "      <td>8.934067e+07</td>\n",
       "      <td>0</td>\n",
       "      <td>6</td>\n",
       "      <td>...</td>\n",
       "      <td>NaN</td>\n",
       "      <td>NaN</td>\n",
       "      <td>NaN</td>\n",
       "      <td>NaN</td>\n",
       "      <td>NaN</td>\n",
       "      <td>NaN</td>\n",
       "      <td>NaN</td>\n",
       "      <td>NaN</td>\n",
       "      <td>NaN</td>\n",
       "      <td>NaN</td>\n",
       "    </tr>\n",
       "  </tbody>\n",
       "</table>\n",
       "<p>13084 rows × 28 columns</p>\n",
       "</div>"
      ],
      "text/plain": [
       "        depth    Gamma   Density           vp           Vs  shear_modulus  \\\n",
       "0      161.02  45.0744  2.632998  5795.981453  3695.036335   3.594909e+07   \n",
       "1      161.07  47.9752  2.648486  5783.318340  3701.418877   3.628559e+07   \n",
       "2      161.12  49.2025  2.678836  5798.969072  3680.981595   3.629722e+07   \n",
       "3      161.17  52.2893  2.632898  5769.230769  3671.970624   3.550033e+07   \n",
       "4      161.22  59.3182  2.672184  5742.725881  3671.521234   3.602122e+07   \n",
       "...       ...      ...       ...          ...          ...            ...   \n",
       "13079  815.57  59.7361  2.629264  5804.055100  3811.944091   3.820562e+07   \n",
       "13080  815.62  58.4438  2.639210  5810.350170  3792.667509   3.796326e+07   \n",
       "13081  815.67  61.1281  2.685878  5832.944470  3769.317753   3.816030e+07   \n",
       "13082  815.72  68.6226  2.697876  5886.970173  3768.844221   3.832113e+07   \n",
       "13083  815.77  77.9380  2.725204  5915.759584  3754.693367   3.841917e+07   \n",
       "\n",
       "       poisson_ratio  young_modulus  real_labels_A  formations  ...  \\\n",
       "0           0.157642   8.323239e+07              0           0  ...   \n",
       "1           0.153086   8.368083e+07              0           0  ...   \n",
       "2           0.162582   8.439702e+07              0           0  ...   \n",
       "3           0.159522   8.232685e+07              0           0  ...   \n",
       "4           0.154337   8.316123e+07              0           0  ...   \n",
       "...              ...            ...            ...         ...  ...   \n",
       "13079       0.120724   8.563593e+07              0           6  ...   \n",
       "13080       0.128808   8.570644e+07              0           6  ...   \n",
       "13081       0.141499   8.711986e+07              0           6  ...   \n",
       "13082       0.152747   8.834917e+07              0           6  ...   \n",
       "13083       0.162710   8.934067e+07              0           6  ...   \n",
       "\n",
       "       Unnamed: 18  Unnamed: 19  Unnamed: 20  Unnamed: 21  Unnamed: 22  \\\n",
       "0              NaN          NaN          NaN          NaN          NaN   \n",
       "1              NaN          NaN          NaN          NaN          NaN   \n",
       "2              NaN          NaN          NaN          NaN          NaN   \n",
       "3              NaN          NaN          NaN          NaN          NaN   \n",
       "4              NaN          NaN          NaN          NaN          NaN   \n",
       "...            ...          ...          ...          ...          ...   \n",
       "13079          NaN          NaN          NaN          NaN          NaN   \n",
       "13080          NaN          NaN          NaN          NaN          NaN   \n",
       "13081          NaN          NaN          NaN          NaN          NaN   \n",
       "13082          NaN          NaN          NaN          NaN          NaN   \n",
       "13083          NaN          NaN          NaN          NaN          NaN   \n",
       "\n",
       "       Unnamed: 23  Unnamed: 24  Unnamed: 25  Unnamed: 26  Unnamed: 27  \n",
       "0              NaN          NaN          NaN          NaN          NaN  \n",
       "1              NaN          NaN          NaN          NaN          NaN  \n",
       "2              NaN          NaN          NaN          NaN          NaN  \n",
       "3              NaN          NaN          NaN          NaN          NaN  \n",
       "4              NaN          NaN          NaN          NaN          NaN  \n",
       "...            ...          ...          ...          ...          ...  \n",
       "13079          NaN          NaN          NaN          NaN          NaN  \n",
       "13080          NaN          NaN          NaN          NaN          NaN  \n",
       "13081          NaN          NaN          NaN          NaN          NaN  \n",
       "13082          NaN          NaN          NaN          NaN          NaN  \n",
       "13083          NaN          NaN          NaN          NaN          NaN  \n",
       "\n",
       "[13084 rows x 28 columns]"
      ]
     },
     "execution_count": 2,
     "metadata": {},
     "output_type": "execute_result"
    }
   ],
   "source": [
    "#displaying loaded dataset\n",
    "elastic_prop"
   ]
  },
  {
   "cell_type": "code",
   "execution_count": 4,
   "id": "d8bea991",
   "metadata": {},
   "outputs": [],
   "source": [
    "features = ['Gamma', 'Density', 'vp', 'Vs', 'shear_modulus', 'poisson_ratio', 'young_modulus']"
   ]
  },
  {
   "cell_type": "code",
   "execution_count": 5,
   "id": "5d75fad7",
   "metadata": {},
   "outputs": [],
   "source": [
    "#extracting required columns of logs and assaising the values to variable x_features\n",
    "\n",
    "features = ['Gamma', 'Density', 'vp', 'Vs']\n",
    "x_featires = elastic_prop.loc[:, features].values"
   ]
  },
  {
   "cell_type": "code",
   "execution_count": 6,
   "id": "e97e9090",
   "metadata": {},
   "outputs": [],
   "source": [
    "#log_features = elastic_prop.loc[:, features].values"
   ]
  },
  {
   "cell_type": "code",
   "execution_count": 7,
   "id": "c159027d",
   "metadata": {},
   "outputs": [
    {
     "data": {
      "text/plain": [
       "array([[4.50744000e+01, 2.63299800e+00, 5.79598145e+03, ...,\n",
       "        3.59490945e+07, 1.57642429e-01, 8.32323942e+07],\n",
       "       [4.79752000e+01, 2.64848600e+00, 5.78331834e+03, ...,\n",
       "        3.62855870e+07, 1.53086325e-01, 8.36808282e+07],\n",
       "       [4.92025000e+01, 2.67883600e+00, 5.79896907e+03, ...,\n",
       "        3.62972246e+07, 1.62582323e-01, 8.43970234e+07],\n",
       "       ...,\n",
       "       [6.11281000e+01, 2.68587800e+00, 5.83294447e+03, ...,\n",
       "        3.81603001e+07, 1.41498646e-01, 8.71198619e+07],\n",
       "       [6.86226000e+01, 2.69787600e+00, 5.88697017e+03, ...,\n",
       "        3.83211346e+07, 1.52747255e-01, 8.83491653e+07],\n",
       "       [7.79380000e+01, 2.72520400e+00, 5.91575958e+03, ...,\n",
       "        3.84191691e+07, 1.62709535e-01, 8.93406686e+07]])"
      ]
     },
     "execution_count": 7,
     "metadata": {},
     "output_type": "execute_result"
    }
   ],
   "source": [
    "#log_features"
   ]
  },
  {
   "cell_type": "code",
   "execution_count": 8,
   "id": "df1d61ac",
   "metadata": {},
   "outputs": [],
   "source": [
    "#extracting columns of lithology log as labels\n",
    "labels_y = elastic_prop.formations"
   ]
  },
  {
   "cell_type": "code",
   "execution_count": 9,
   "id": "8d66231e",
   "metadata": {},
   "outputs": [
    {
     "data": {
      "text/plain": [
       "0        0\n",
       "1        0\n",
       "2        0\n",
       "3        0\n",
       "4        0\n",
       "        ..\n",
       "13079    6\n",
       "13080    6\n",
       "13081    6\n",
       "13082    6\n",
       "13083    6\n",
       "Name: formations, Length: 13084, dtype: int64"
      ]
     },
     "execution_count": 9,
     "metadata": {},
     "output_type": "execute_result"
    }
   ],
   "source": [
    "labels_y"
   ]
  },
  {
   "cell_type": "code",
   "execution_count": 10,
   "id": "c425a1d3",
   "metadata": {},
   "outputs": [],
   "source": [
    "#extracting values of encoded lithology classes\n",
    "labels = labels_y.values"
   ]
  },
  {
   "cell_type": "code",
   "execution_count": 11,
   "id": "4a69dd99",
   "metadata": {},
   "outputs": [
    {
     "data": {
      "text/plain": [
       "array([0, 0, 0, ..., 6, 6, 6], dtype=int64)"
      ]
     },
     "execution_count": 11,
     "metadata": {},
     "output_type": "execute_result"
    }
   ],
   "source": [
    "labels"
   ]
  },
  {
   "cell_type": "code",
   "execution_count": 12,
   "id": "e4ae22a3",
   "metadata": {},
   "outputs": [],
   "source": [
    "#importing modules\n",
    "\n",
    "from sklearn.metrics import accuracy_score, classification_report, precision_recall_curve\n",
    "from sklearn.model_selection import KFold, GridSearchCV\n",
    "from sklearn.model_selection import train_test_split, cross_val_score\n",
    "from sklearn.svm import SVC"
   ]
  },
  {
   "cell_type": "code",
   "execution_count": 13,
   "id": "86f9d86d",
   "metadata": {},
   "outputs": [],
   "source": [
    "#importing modules\n",
    "\n",
    "from matplotlib.colors import LinearSegmentedColormap, ListedColormap\n",
    "from sklearn.cluster import KMeans\n",
    "from sklearn.preprocessing import StandardScaler\n",
    "from sklearn.decomposition import PCA\n",
    "#from kneed import KneeLocator\n",
    "from sklearn.metrics import accuracy_score, classification_report, precision_recall_curve\n",
    "from sklearn.model_selection import KFold, GridSearchCV\n",
    "from sklearn.model_selection import train_test_split, cross_val_score\n",
    "from sklearn.ensemble import GradientBoostingClassifier"
   ]
  },
  {
   "cell_type": "code",
   "execution_count": 14,
   "id": "5c1bb21e",
   "metadata": {},
   "outputs": [],
   "source": [
    "#Splitting logs and lithology into training and testing sets in ratio 80:20 % \n",
    "logs_train, logs_test, labels_train, labels_test = train_test_split(x_features, labels, test_size = 0.2, random_state = 0)"
   ]
  },
  {
   "cell_type": "code",
   "execution_count": 15,
   "id": "57cf607d",
   "metadata": {},
   "outputs": [],
   "source": [
    "#standardizing training and testing datasets\n",
    "scaler = StandardScaler()\n",
    "logs_train_norm = scaler.fit_transform(logs_train)\n",
    "logs_test_norm = scaler.transform(logs_test)"
   ]
  },
  {
   "cell_type": "code",
   "execution_count": 16,
   "id": "652cb8ce",
   "metadata": {},
   "outputs": [],
   "source": [
    "#importing modules\n",
    "from matplotlib.colors import LinearSegmentedColormap, ListedColormap\n",
    "from sklearn.cluster import KMeans\n",
    "from sklearn.preprocessing import StandardScaler\n",
    "from sklearn.decomposition import PCA\n",
    "#from kneed import KneeLocator"
   ]
  },
  {
   "cell_type": "code",
   "execution_count": 17,
   "id": "09ea21e1",
   "metadata": {},
   "outputs": [],
   "source": [
    "#building a PCA modelfor selection of optimal number of components\n",
    "prop_pca = PCA()\n",
    "#prop_pca.fit(logs_train_norm)\n",
    "logs_train_main_components = prop_pca.fit_transform(logs_train_norm)\n",
    "logs_test_main_components = prop_pca.transform(logs_test_norm)"
   ]
  },
  {
   "cell_type": "code",
   "execution_count": 18,
   "id": "b62666eb",
   "metadata": {},
   "outputs": [
    {
     "data": {
      "text/plain": [
       "array([2.5538634 , 1.01815241, 0.35085457, 0.07751181])"
      ]
     },
     "execution_count": 18,
     "metadata": {},
     "output_type": "execute_result"
    }
   ],
   "source": [
    "#exstimating eigenvalue for each principal component\n",
    "#pca_classes = range(prop_pca.n_components_)\n",
    "prop_pca.explained_variance_"
   ]
  },
  {
   "cell_type": "code",
   "execution_count": 19,
   "id": "c7f0eabd",
   "metadata": {},
   "outputs": [
    {
     "data": {
      "text/plain": [
       "array([0.63840485, 0.25451378, 0.08770526, 0.0193761 ])"
      ]
     },
     "execution_count": 19,
     "metadata": {},
     "output_type": "execute_result"
    }
   ],
   "source": [
    "#estimating variance of principal component\n",
    "prop_pca.explained_variance_ratio_"
   ]
  },
  {
   "cell_type": "code",
   "execution_count": 498,
   "id": "b00e1777",
   "metadata": {},
   "outputs": [
    {
     "data": {
      "image/png": "[encoded data removed]",
      "text/plain": [
       "<Figure size 2400x1600 with 1 Axes>"
      ]
     },
     "metadata": {
      "needs_background": "light"
     },
     "output_type": "display_data"
    }
   ],
   "source": [
    "\n",
    "#pca_classes = range(prop_pca.n_components_)\n",
    "#plt.figure(figsize = (6, 4), dpi = 400)\n",
    "#plt.plot(pca_classes,prop_pca.explained_variance_ratio_,'-o', linewidth = 3)\n",
    "#plt.xlabel('clusters, K', fontsize = 20)\n",
    "#plt.ylabel('sum_squares', fontsize = 20)\n",
    "#plt.xticks(range(1,8))\n",
    "#plt.tick_params(direction = 'out', length = 4, width = 4, color = 'k')\n",
    "#plt.tick_params(axis = 'both', which = 'major', labelsize = 16)\n",
    "#plt.grid(True, which = 'major')\n",
    "#plt.grid()\n",
    "#plt.xlim(0, 5) \n",
    "#plt.savefig('desktop/PCA_ELBOW_PLOT_2.png', format = 'png', dpi = 400)\n",
    "#plt.show()"
   ]
  },
  {
   "cell_type": "code",
   "execution_count": 20,
   "id": "9b0f61cf",
   "metadata": {},
   "outputs": [],
   "source": [
    "#retraining the PCS model using 2 principal components\n",
    "prop_pca = PCA(2)\n",
    "#prop_pca.fit(logs_train_norm)\n",
    "logs_train_main_components = prop_pca.fit_transform(logs_train_norm)\n",
    "logs_test_main_components = prop_pca.transform(logs_test_norm)"
   ]
  },
  {
   "cell_type": "code",
   "execution_count": 21,
   "id": "bed47ba6",
   "metadata": {},
   "outputs": [],
   "source": [
    "#importing modules\n",
    "from sklearn.model_selection import validation_curve\n",
    "import numpy as np\n",
    "from sklearn.pipeline import  Pipeline\n",
    "import matplotlib.pyplot as plt\n",
    "from matplotlib.pyplot import figure"
   ]
  },
  {
   "cell_type": "code",
   "execution_count": 22,
   "id": "c35707bd",
   "metadata": {},
   "outputs": [],
   "source": [
    "#importing random forest classifier model\n",
    "from sklearn.ensemble import RandomForestClassifier"
   ]
  },
  {
   "cell_type": "code",
   "execution_count": 26,
   "id": "b0bcc00e",
   "metadata": {},
   "outputs": [],
   "source": [
    "#defining the seed of randomness of random forest model\n",
    "classifier_rf = RandomForestClassifier(random_state = 0)"
   ]
  },
  {
   "cell_type": "code",
   "execution_count": 27,
   "id": "06e0b3ca",
   "metadata": {},
   "outputs": [],
   "source": [
    "#defining ranges of number of trees\n",
    "param_range_n_estimators = [10, 20, 30, 40, 50, 60, 70, 80, 90, 100]"
   ]
  },
  {
   "cell_type": "code",
   "execution_count": 28,
   "id": "7cccb060",
   "metadata": {},
   "outputs": [
    {
     "data": {
      "image/png": "[encoded data removed]",
      "text/plain": [
       "<Figure size 576x432 with 1 Axes>"
      ]
     },
     "metadata": {
      "needs_background": "light"
     },
     "output_type": "display_data"
    }
   ],
   "source": [
    "#estimating an appropriate range of values of number of trees\n",
    "train_scores, test_scores = validation_curve(estimator = classifier_rf, X = logs_train_main_components, y = labels_train, param_name = 'n_estimators', param_range = param_range_n_estimators, cv = 10, n_jobs = -1)\n",
    "train_scores_mean = np.mean(train_scores, axis = 1)\n",
    "train_scores_std = np.std(train_scores, axis = 1)\n",
    "test_scores_mean = np.mean(test_scores, axis = 1)\n",
    "test_scores_std = np.std(test_scores, axis = 1)\n",
    "figure(figsize = (8, 6))\n",
    "plt.plot(param_range_n_estimators, train_scores_mean, color = 'darkorange', marker = 'x', markersize = 7, label = 'training accuracy', linewidth = 3)\n",
    "plt.fill_between(param_range_n_estimators, train_scores_mean+train_scores_std, train_scores_mean-train_scores_std, alpha = 0.1, color = 'darkorange')\n",
    "plt.plot(param_range_n_estimators, test_scores_mean, color = 'blue', linestyle = '-', marker = 'o', markersize = 7, label = 'cross_validation_accuracy', linewidth = 3)\n",
    "plt.fill_between(param_range_n_estimators, test_scores_mean+test_scores_std, test_scores_mean-test_scores_std, alpha = 0.1, color = 'blue')\n",
    "plt.grid()\n",
    "#plt.xscale('log')\n",
    "plt.xlabel('Parameter n_estimators')\n",
    "plt.ylabel('Accuracy')\n",
    "#plt.xscale('log')\n",
    "plt.xlim([10, 100])\n",
    "plt.legend(loc = 'best', fontsize = 12)\n",
    "#plt.savefig('desktop/RF_n_estimators_validatn_curve_pca.png', format = 'png', dpi = 400)\n",
    "plt.show()"
   ]
  },
  {
   "cell_type": "code",
   "execution_count": 504,
   "id": "a7088462",
   "metadata": {},
   "outputs": [],
   "source": [
    "#defining range of values for maximum depth \n",
    "param_range_depth = [5, 10, 15, 20, 25, 30, 35, 40, 45, 50]"
   ]
  },
  {
   "cell_type": "code",
   "execution_count": 505,
   "id": "6260b5f3",
   "metadata": {},
   "outputs": [
    {
     "data": {
      "image/png": "[encoded data removed]",
      "text/plain": [
       "<Figure size 576x432 with 1 Axes>"
      ]
     },
     "metadata": {
      "needs_background": "light"
     },
     "output_type": "display_data"
    }
   ],
   "source": [
    "#estimating an appropriate range of values of maximum depth\n",
    "\n",
    "train_scores, test_scores = validation_curve(estimator = classifier_rf, X = logs_train_main_components, y = labels_train, param_name = 'max_depth', param_range = param_range_depth, cv = 10, n_jobs = -1)\n",
    "train_scores_mean = np.mean(train_scores, axis = 1)\n",
    "train_scores_std = np.std(train_scores, axis = 1)\n",
    "test_scores_mean = np.mean(test_scores, axis = 1)\n",
    "test_scores_std = np.std(test_scores, axis = 1)\n",
    "figure(figsize = (8, 6))\n",
    "plt.plot(param_range_depth, train_scores_mean, color = 'darkorange', marker = 'x', markersize = 7, label = 'training accuracy', linewidth = 3)\n",
    "plt.fill_between(param_range_depth, train_scores_mean+train_scores_std, train_scores_mean-train_scores_std, alpha = 0.1, color = 'darkorange')\n",
    "plt.plot(param_range_depth, test_scores_mean, color = 'blue', linestyle = '-', marker = 'o', markersize = 7, label = 'cross_validation_accuracy', linewidth = 3)\n",
    "plt.fill_between(param_range_depth, test_scores_mean+test_scores_std, test_scores_mean-test_scores_std, alpha = 0.1, color = 'blue')\n",
    "plt.grid()\n",
    "#plt.xscale('log')\n",
    "plt.xlabel('Parameter max_depth')\n",
    "plt.ylabel('Accuracy')\n",
    "plt.xlim([5, 50])\n",
    "#plt.xscale('log')\n",
    "plt.legend(loc = 'best', fontsize = 12)\n",
    "#plt.savefig('desktop/RF_max_depth_validatn_curve_pca.png', format = 'png', dpi = 400)\n",
    "plt.show()"
   ]
  },
  {
   "cell_type": "code",
   "execution_count": 299,
   "id": "cf499a9a",
   "metadata": {},
   "outputs": [],
   "source": [
    "#defining range of values for minimumsample split\n",
    "\n",
    "param_range_min_samples_2 = [5, 10, 15, 20, 25, 30, 35, 40, 45, 50]"
   ]
  },
  {
   "cell_type": "code",
   "execution_count": 300,
   "id": "f74e83be",
   "metadata": {},
   "outputs": [
    {
     "data": {
      "image/png": "[encoded data removed]",
      "text/plain": [
       "<Figure size 576x432 with 1 Axes>"
      ]
     },
     "metadata": {
      "needs_background": "light"
     },
     "output_type": "display_data"
    }
   ],
   "source": [
    "#estimating an appropriate range of values of minimum sample spplit\n",
    "\n",
    "train_scores, test_scores = validation_curve(estimator = classifier_rf, X = logs_train_main_components, y = labels_train, param_name = 'min_samples_split', param_range = param_range_min_samples_2, cv = 10, n_jobs = -1)\n",
    "train_scores_mean = np.mean(train_scores, axis = 1)\n",
    "train_scores_std = np.std(train_scores, axis = 1)\n",
    "test_scores_mean = np.mean(test_scores, axis = 1)\n",
    "test_scores_std = np.std(test_scores, axis = 1)\n",
    "figure(figsize = (8, 6))\n",
    "plt.plot(param_range_min_samples_2, train_scores_mean, color = 'darkorange', marker = 'x', markersize = 7, label = 'training accuracy', linewidth = 3)\n",
    "plt.fill_between(param_range_min_samples_2, train_scores_mean+train_scores_std, train_scores_mean-train_scores_std, alpha = 0.1, color = 'darkorange')\n",
    "plt.plot(param_range_min_samples_2, test_scores_mean, color = 'blue', linestyle = '-', marker = 'o', markersize = 7, label = 'cross_validation_accuracy', linewidth = 3)\n",
    "plt.fill_between(param_range_min_samples_2, test_scores_mean+test_scores_std, test_scores_mean-test_scores_std, alpha = 0.1, color = 'blue')\n",
    "plt.grid()\n",
    "#plt.xscale('log')\n",
    "plt.xlabel('Parameter min_samples_split_2')\n",
    "plt.ylabel('Accuracy')\n",
    "#plt.xlim([5, 50])\n",
    "plt.legend(loc = 'best', fontsize = 12)\n",
    "plt.xticks(np.arange(5, 50, 5))\n",
    "#plt.savefig('desktop/RF_min_samples_split_validatn_pca.png', format = 'png', dpi = 400)\n",
    "plt.show()"
   ]
  },
  {
   "cell_type": "code",
   "execution_count": 35,
   "id": "17b5e7da",
   "metadata": {},
   "outputs": [],
   "source": [
    "#optimization and tuning of hyperparameters\n",
    "\n",
    "grid_parameter = {'n_estimators': [10, 20, 30, 40, 50, 60, 70, 80, 90, 100], 'max_depth': [5,6, 7, 8, 9, 10, 11, 12, 13, 14, 15, 16, 17, 18, 19, 20], 'min_samples_split': [5, 6, 7, 8, 9, 10], 'max_features': ['auto', 'sqrt'], 'bootstrap': [True, False]}\n",
    "classifier_rf = RandomForestClassifier(random_state = 0)\n",
    "grid_search = GridSearchCV(estimator = classifier_rf, param_grid = grid_parameter, scoring = 'accuracy', cv = 10, n_jobs = -1)"
   ]
  },
  {
   "cell_type": "code",
   "execution_count": 36,
   "id": "7726405e",
   "metadata": {},
   "outputs": [
    {
     "name": "stdout",
     "output_type": "stream",
     "text": [
      "121.21875\n"
     ]
    }
   ],
   "source": [
    "#estimating time of optimization\n",
    "\n",
    "import time\n",
    "start = time.process_time()\n",
    "grid_search = grid_search.fit(logs_train_main_components, labels_train)\n",
    "end = time.process_time()\n",
    "print(end-start)"
   ]
  },
  {
   "cell_type": "code",
   "execution_count": 39,
   "id": "cec9653c",
   "metadata": {},
   "outputs": [],
   "source": [
    "#estimating highest performance accuracy and parameter optimal value\n",
    "svc_best_accuracy = grid_search.best_score_\n",
    "svc_best_parameters = grid_search.best_params_"
   ]
  },
  {
   "cell_type": "code",
   "execution_count": 40,
   "id": "88970464",
   "metadata": {},
   "outputs": [
    {
     "name": "stdout",
     "output_type": "stream",
     "text": [
      "0.6766\n",
      "{'bootstrap': True, 'max_depth': 10, 'max_features': 'auto', 'min_samples_split': 7, 'n_estimators': 70}\n"
     ]
    }
   ],
   "source": [
    "print('%.4f'%svc_best_accuracy)\n",
    "print(svc_best_parameters)"
   ]
  },
  {
   "cell_type": "code",
   "execution_count": 55,
   "id": "637aa684",
   "metadata": {},
   "outputs": [
    {
     "name": "stdout",
     "output_type": "stream",
     "text": [
      "1.1875\n"
     ]
    }
   ],
   "source": [
    "#applying optimized paratemers to RF Classifer\n",
    "import time\n",
    "start = time.process_time()\n",
    "rf_classifier = RandomForestClassifier(n_estimators = 10, max_depth = 10, min_samples_split =7, max_features = 'auto', bootstrap = True, random_state = 0)\n",
    "rf_classifier.fit(logs_train_main_components, labels_train)\n",
    "    #derive cross_val_score for RandomForestClassifier with n_estimators\n",
    "    #scores_3 = cross_val_score(estimator = classifier_score, X = x_train_norm, y = y_train, cv = 10)\n",
    "    #add man of scores for n_estmators to n_score list\n",
    "scores_rf = cross_val_score(estimator = rf_classifier, X = logs_train_main_components, y = labels_train, cv = 10)\n",
    "end = time.process_time()\n",
    "print(end-start)"
   ]
  },
  {
   "cell_type": "code",
   "execution_count": 56,
   "id": "d3481c5a",
   "metadata": {},
   "outputs": [],
   "source": [
    "#making predictions based on training dataset\n",
    "\n",
    "labels_train_pred = rf_classifier.predict(logs_train_main_components)"
   ]
  },
  {
   "cell_type": "code",
   "execution_count": 57,
   "id": "2817f769",
   "metadata": {},
   "outputs": [
    {
     "name": "stdout",
     "output_type": "stream",
     "text": [
      "Accuracy: 0.7299130600936276\n"
     ]
    }
   ],
   "source": [
    "#estimating accuracy of training \n",
    "from sklearn import metrics\n",
    "print(\"Accuracy:\", metrics.accuracy_score(labels_train, labels_train_pred))"
   ]
  },
  {
   "cell_type": "code",
   "execution_count": 58,
   "id": "af468b8b",
   "metadata": {},
   "outputs": [],
   "source": [
    "#making predictions based on testing dataset\n",
    "\n",
    "labels_test_pred = rf_classifier.predict(logs_test_main_components)"
   ]
  },
  {
   "cell_type": "code",
   "execution_count": 59,
   "id": "56ab864f",
   "metadata": {},
   "outputs": [
    {
     "name": "stdout",
     "output_type": "stream",
     "text": [
      "Accuracy: 0.6664119220481467\n"
     ]
    }
   ],
   "source": [
    "#estimating accuracy of testing\n",
    "print(\"Accuracy:\", metrics.accuracy_score(labels_test, labels_test_pred))"
   ]
  },
  {
   "cell_type": "code",
   "execution_count": 60,
   "id": "f4b6d340",
   "metadata": {},
   "outputs": [
    {
     "name": "stdout",
     "output_type": "stream",
     "text": [
      "              precision    recall  f1-score   support\n",
      "\n",
      "           0     0.6881    0.8093    0.7438      3361\n",
      "           1     0.4720    0.2846    0.3551       889\n",
      "           2     0.9266    0.8123    0.8657       762\n",
      "           3     0.6115    0.5035    0.5523       572\n",
      "           4     0.8070    0.8900    0.8465       700\n",
      "           5     0.8410    0.9452    0.8901       621\n",
      "           6     0.6521    0.5998    0.6249      2519\n",
      "           7     0.9876    0.9962    0.9919      1043\n",
      "\n",
      "    accuracy                         0.7299     10467\n",
      "   macro avg     0.7482    0.7301    0.7338     10467\n",
      "weighted avg     0.7211    0.7299    0.7208     10467\n",
      "\n"
     ]
    }
   ],
   "source": [
    "#estimating evaluation metrics based on predictions maded using training dataset\n",
    "\n",
    "from sklearn.metrics import classification_report\n",
    "print(classification_report(labels_train, labels_train_pred, digits = 4)) #n_esimatr 80% Test"
   ]
  },
  {
   "cell_type": "code",
   "execution_count": 61,
   "id": "2d633eca",
   "metadata": {},
   "outputs": [
    {
     "name": "stdout",
     "output_type": "stream",
     "text": [
      "              precision    recall  f1-score   support\n",
      "\n",
      "           0     0.6089    0.7328    0.6651       786\n",
      "           1     0.3419    0.1852    0.2402       216\n",
      "           2     0.8896    0.7569    0.8179       181\n",
      "           3     0.5254    0.4460    0.4825       139\n",
      "           4     0.7512    0.8191    0.7837       199\n",
      "           5     0.7565    0.9012    0.8225       162\n",
      "           6     0.5805    0.5291    0.5536       654\n",
      "           7     0.9928    0.9786    0.9856       280\n",
      "\n",
      "    accuracy                         0.6664      2617\n",
      "   macro avg     0.6808    0.6686    0.6689      2617\n",
      "weighted avg     0.6558    0.6664    0.6561      2617\n",
      "\n"
     ]
    }
   ],
   "source": [
    "#estimating evaluation metrics based on predictions maded using testing dataset\n",
    "from sklearn.metrics import classification_report\n",
    "print(classification_report(labels_test, labels_test_pred, digits = 4)) #n_esimatr 80% Test"
   ]
  },
  {
   "cell_type": "code",
   "execution_count": 418,
   "id": "2f56ea67",
   "metadata": {},
   "outputs": [],
   "source": [
    "import matplotlib.pyplot as plt\n",
    "from matplotlib.pyplot import figure\n",
    "from sklearn.metrics import confusion_matrix # n_estimator 80\n",
    "import itertools\n",
    "import matplotlib.pyplot as plt\n",
    "%matplotlib inline\n",
    "import seaborn as sns"
   ]
  },
  {
   "cell_type": "code",
   "execution_count": 419,
   "id": "87e6114e",
   "metadata": {},
   "outputs": [],
   "source": [
    "#cm = confusion_matrix(labels_test, labels_test_pred)\n",
    "#cm_norm = cm.astype('float') / cm.sum(axis = 1)[:, np.newaxis]"
   ]
  },
  {
   "cell_type": "code",
   "execution_count": 420,
   "id": "0d303486",
   "metadata": {},
   "outputs": [
    {
     "data": {
      "image/png": "[encoded data removed]",
      "text/plain": [
       "<Figure size 1008x720 with 2 Axes>"
      ]
     },
     "metadata": {
      "needs_background": "light"
     },
     "output_type": "display_data"
    }
   ],
   "source": [
    "#plt.figure(figsize = (14, 10))\n",
    "#sns.heatmap(cm_norm, annot = True, fmt = '.4f', linewidth = 2, linecolor = 'black', cmap = 'Reds')\n",
    "#plt.subplots_adjust(bottom = 0.15)\n",
    "#plt.set_xticks(tickmarks, minor = True)\n",
    "#plt.grid(True, which = 'minor', linestyle = '-')\n",
    "#plt.savefig('desktop/RF_matrix_pca.png', format = 'png', dpi = 400)"
   ]
  },
  {
   "cell_type": "code",
   "execution_count": 37,
   "id": "c8a59bf9",
   "metadata": {},
   "outputs": [
    {
     "name": "stdout",
     "output_type": "stream",
     "text": [
      "114.828125\n"
     ]
    }
   ],
   "source": [
    "#apply pca components to gbdat model\n",
    "\n",
    "import time\n",
    "start = time.process_time()\n",
    "gbt_classifier_2 =  GradientBoostingClassifier(n_estimators = 80, max_depth = 10, min_samples_split = 5, min_samples_leaf = 5, learning_rate = 0.1, random_state = 0)\n",
    "gbt_classifier_2.fit(logs_train_main_components, labels_train)\n",
    "    #derive cross_val_score for RandomForestClassifier with n_estimators\n",
    "    #scores_3 = cross_val_score(estimator = classifier_score, X = x_train_norm, y = y_train, cv = 10)\n",
    "    #add man of scores for n_estmators to n_score list\n",
    "scores_rf = cross_val_score(estimator = gbt_classifier_2, X = logs_train_main_components, y = labels_train,  cv = 10)\n",
    "end = time.process_time()\n",
    "print(end-start)"
   ]
  },
  {
   "cell_type": "code",
   "execution_count": 104,
   "id": "65183d06",
   "metadata": {},
   "outputs": [],
   "source": [
    "labels_train_pred_gbt = gbt_classifier_2.predict(logs_train_main_components)"
   ]
  },
  {
   "cell_type": "code",
   "execution_count": 105,
   "id": "5bf6dba9",
   "metadata": {},
   "outputs": [
    {
     "name": "stdout",
     "output_type": "stream",
     "text": [
      "Accuracy: 0.9455431355689309\n"
     ]
    }
   ],
   "source": [
    "from sklearn import metrics\n",
    "print(\"Accuracy:\", metrics.accuracy_score(labels_train, labels_train_pred_gbt))"
   ]
  },
  {
   "cell_type": "code",
   "execution_count": 106,
   "id": "27a996b6",
   "metadata": {},
   "outputs": [],
   "source": [
    "labels_test_pred_gbt = gbt_classifier_2.predict(logs_test_main_components)"
   ]
  },
  {
   "cell_type": "code",
   "execution_count": 107,
   "id": "5e880133",
   "metadata": {},
   "outputs": [
    {
     "name": "stdout",
     "output_type": "stream",
     "text": [
      "Accuracy: 0.6446312571646924\n"
     ]
    }
   ],
   "source": [
    "print(\"Accuracy:\", metrics.accuracy_score(labels_test, labels_test_pred_gbt))"
   ]
  },
  {
   "cell_type": "code",
   "execution_count": 108,
   "id": "3b7e306b",
   "metadata": {},
   "outputs": [
    {
     "name": "stdout",
     "output_type": "stream",
     "text": [
      "              precision    recall  f1-score   support\n",
      "\n",
      "           0     0.8942    0.9702    0.9307      3361\n",
      "           1     0.9436    0.8841    0.9129       889\n",
      "           2     1.0000    1.0000    1.0000       762\n",
      "           3     0.9805    0.9685    0.9745       572\n",
      "           4     0.9859    1.0000    0.9929       700\n",
      "           5     1.0000    1.0000    1.0000       621\n",
      "           6     0.9493    0.8615    0.9032      2519\n",
      "           7     1.0000    1.0000    1.0000      1043\n",
      "\n",
      "    accuracy                         0.9455     10467\n",
      "   macro avg     0.9692    0.9605    0.9643     10467\n",
      "weighted avg     0.9470    0.9455    0.9452     10467\n",
      "\n"
     ]
    }
   ],
   "source": [
    "from sklearn.metrics import classification_report\n",
    "print(classification_report(labels_train, labels_train_pred_gbt, digits = 4)) #n_esimatr 80% Test"
   ]
  },
  {
   "cell_type": "code",
   "execution_count": 109,
   "id": "8c9d89aa",
   "metadata": {},
   "outputs": [
    {
     "name": "stdout",
     "output_type": "stream",
     "text": [
      "              precision    recall  f1-score   support\n",
      "\n",
      "           0     0.6019    0.7176    0.6547       786\n",
      "           1     0.3041    0.2407    0.2687       216\n",
      "           2     0.7907    0.7514    0.7705       181\n",
      "           3     0.4697    0.4460    0.4576       139\n",
      "           4     0.7440    0.7739    0.7586       199\n",
      "           5     0.7459    0.8333    0.7872       162\n",
      "           6     0.5761    0.4801    0.5238       654\n",
      "           7     0.9926    0.9643    0.9783       280\n",
      "\n",
      "    accuracy                         0.6446      2617\n",
      "   macro avg     0.6531    0.6509    0.6499      2617\n",
      "weighted avg     0.6384    0.6446    0.6384      2617\n",
      "\n"
     ]
    }
   ],
   "source": [
    "from sklearn.metrics import classification_report\n",
    "print(classification_report(labels_test, labels_test_pred_gbt, digits = 4)) #n_esimatr 80% Test"
   ]
  },
  {
   "cell_type": "code",
   "execution_count": 103,
   "id": "d4982764",
   "metadata": {},
   "outputs": [
    {
     "name": "stdout",
     "output_type": "stream",
     "text": [
      "277.328125\n"
     ]
    }
   ],
   "source": [
    "#applying pca components to SVM model\n",
    "import time\n",
    "start = time.process_time()\n",
    "classifier = SVC(kernel= 'rbf', C = 1000, gamma = 8, random_state = 0)\n",
    "classifier.fit(logs_train_main_components, labels_train)\n",
    "scores = cross_val_score(estimator = classifier, X = logs_train_main_components, y = labels_train, cv = 10)\n",
    "end = time.process_time()\n",
    "print(end-start)"
   ]
  },
  {
   "cell_type": "code",
   "execution_count": 114,
   "id": "9edfa55c",
   "metadata": {},
   "outputs": [],
   "source": [
    "labels_train_pred_svm = classifier.predict(logs_train_main_components)"
   ]
  },
  {
   "cell_type": "code",
   "execution_count": 115,
   "id": "1f76c60b",
   "metadata": {},
   "outputs": [
    {
     "name": "stdout",
     "output_type": "stream",
     "text": [
      "Accuracy: 0.7001050921945161\n"
     ]
    }
   ],
   "source": [
    "from sklearn import metrics\n",
    "print(\"Accuracy:\", metrics.accuracy_score(labels_train, labels_train_pred_svm))"
   ]
  },
  {
   "cell_type": "code",
   "execution_count": 116,
   "id": "7a115505",
   "metadata": {},
   "outputs": [],
   "source": [
    "labels_test_pred_svm = classifier.predict(logs_test_main_components)"
   ]
  },
  {
   "cell_type": "code",
   "execution_count": 117,
   "id": "1e00a7dc",
   "metadata": {},
   "outputs": [
    {
     "name": "stdout",
     "output_type": "stream",
     "text": [
      "Accuracy: 0.6740542606037447\n"
     ]
    }
   ],
   "source": [
    "print(\"Accuracy:\", metrics.accuracy_score(labels_test, labels_test_pred_svm))"
   ]
  },
  {
   "cell_type": "code",
   "execution_count": 118,
   "id": "cc454aa9",
   "metadata": {},
   "outputs": [
    {
     "name": "stdout",
     "output_type": "stream",
     "text": [
      "              precision    recall  f1-score   support\n",
      "\n",
      "           0     0.6598    0.7766    0.7134      3361\n",
      "           1     0.3748    0.2643    0.3100       889\n",
      "           2     0.9322    0.8123    0.8682       762\n",
      "           3     0.5947    0.4283    0.4980       572\n",
      "           4     0.7815    0.8943    0.8341       700\n",
      "           5     0.8272    0.9404    0.8802       621\n",
      "           6     0.6102    0.5439    0.5751      2519\n",
      "           7     0.9839    0.9962    0.9900      1043\n",
      "\n",
      "    accuracy                         0.7001     10467\n",
      "   macro avg     0.7205    0.7070    0.7086     10467\n",
      "weighted avg     0.6903    0.7001    0.6909     10467\n",
      "\n"
     ]
    }
   ],
   "source": [
    "from sklearn.metrics import classification_report\n",
    "print(classification_report(labels_train, labels_train_pred_svm, digits = 4)) #n_esimatr 80% Test"
   ]
  },
  {
   "cell_type": "code",
   "execution_count": 119,
   "id": "a906d1c1",
   "metadata": {},
   "outputs": [
    {
     "name": "stdout",
     "output_type": "stream",
     "text": [
      "              precision    recall  f1-score   support\n",
      "\n",
      "           0     0.6220    0.7621    0.6850       786\n",
      "           1     0.3630    0.2454    0.2928       216\n",
      "           2     0.8947    0.7514    0.8168       181\n",
      "           3     0.5429    0.4101    0.4672       139\n",
      "           4     0.7569    0.8291    0.7914       199\n",
      "           5     0.7629    0.9136    0.8315       162\n",
      "           6     0.5872    0.5046    0.5428       654\n",
      "           7     0.9964    0.9857    0.9910       280\n",
      "\n",
      "    accuracy                         0.6741      2617\n",
      "   macro avg     0.6907    0.6752    0.6773      2617\n",
      "weighted avg     0.6656    0.6741    0.6645      2617\n",
      "\n"
     ]
    }
   ],
   "source": [
    "from sklearn.metrics import classification_report\n",
    "print(classification_report(labels_test, labels_test_pred_svm, digits = 4)) #n_esimatr 80% Test"
   ]
  },
  {
   "cell_type": "code",
   "execution_count": null,
   "id": "bdb9cd24",
   "metadata": {},
   "outputs": [],
   "source": []
  }
 ],
 "metadata": {
  "kernelspec": {
   "display_name": "Python 3 (ipykernel)",
   "language": "python",
   "name": "python3"
  },
  "language_info": {
   "codemirror_mode": {
    "name": "ipython",
    "version": 3
   },
   "file_extension": ".py",
   "mimetype": "text/x-python",
   "name": "python",
   "nbconvert_exporter": "python",
   "pygments_lexer": "ipython3",
   "version": "3.11.4"
  }
 },
 "nbformat": 4,
 "nbformat_minor": 5
}
